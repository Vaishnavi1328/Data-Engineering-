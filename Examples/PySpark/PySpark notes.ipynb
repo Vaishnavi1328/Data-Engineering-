{
  "nbformat": 4,
  "nbformat_minor": 0,
  "metadata": {
    "colab": {
      "provenance": [],
      "toc_visible": true
    },
    "kernelspec": {
      "name": "python3",
      "display_name": "Python 3"
    },
    "language_info": {
      "name": "python"
    }
  },
  "cells": [
    {
      "cell_type": "code",
      "execution_count": null,
      "metadata": {
        "colab": {
          "base_uri": "https://localhost:8080/"
        },
        "id": "sAm3iGmiBK1x",
        "outputId": "b855f65b-fa6b-4276-b851-bbe59c973f59"
      },
      "outputs": [
        {
          "output_type": "stream",
          "name": "stdout",
          "text": [
            "Collecting pyspark\n",
            "  Downloading pyspark-3.5.2.tar.gz (317.3 MB)\n",
            "\u001b[2K     \u001b[90m━━━━━━━━━━━━━━━━━━━━━━━━━━━━━━━━━━━━━━━━\u001b[0m \u001b[32m317.3/317.3 MB\u001b[0m \u001b[31m4.8 MB/s\u001b[0m eta \u001b[36m0:00:00\u001b[0m\n",
            "\u001b[?25h  Preparing metadata (setup.py) ... \u001b[?25l\u001b[?25hdone\n",
            "Requirement already satisfied: py4j==0.10.9.7 in /usr/local/lib/python3.10/dist-packages (from pyspark) (0.10.9.7)\n",
            "Building wheels for collected packages: pyspark\n",
            "  Building wheel for pyspark (setup.py) ... \u001b[?25l\u001b[?25hdone\n",
            "  Created wheel for pyspark: filename=pyspark-3.5.2-py2.py3-none-any.whl size=317812365 sha256=b63f051842db588699f173d984aab4bf4a9a8d47aeefbc764372c72b351cacf0\n",
            "  Stored in directory: /root/.cache/pip/wheels/34/34/bd/03944534c44b677cd5859f248090daa9fb27b3c8f8e5f49574\n",
            "Successfully built pyspark\n",
            "Installing collected packages: pyspark\n",
            "Successfully installed pyspark-3.5.2\n"
          ]
        }
      ],
      "source": [
        "pip install pyspark"
      ]
    },
    {
      "cell_type": "code",
      "source": [
        "from pyspark.sql import SparkSession\n",
        "from pyspark.sql.functions import col\n",
        "\n",
        "# Initialize SparkSession\n",
        "spark = SparkSession.builder \\\n",
        "    .appName(\"Product Sales Analysis\") \\\n",
        "    .getOrCreate()\n",
        "\n",
        "# Sample data for products\n",
        "products = [\n",
        "    (1, \"Laptop\", \"Electronics\", 50000),\n",
        "    (2, \"Smartphone\", \"Electronics\", 30000),\n",
        "    (3, \"Table\", \"Furniture\", 15000),\n",
        "    (4, \"Chair\", \"Furniture\", 5000),\n",
        "    (5, \"Headphones\", \"Electronics\", 2000),\n",
        "]\n",
        "\n",
        "# Sample data for sales transactions\n",
        "sales = [\n",
        "    (1, 1, 2),\n",
        "    (2, 2, 1),\n",
        "    (3, 3, 3),\n",
        "    (4, 1, 1),\n",
        "    (5, 4, 5),\n",
        "    (6, 2, 2),\n",
        "    (7, 5, 10),\n",
        "    (8, 3, 1),\n",
        "]\n",
        "\n",
        "# Define schema for DataFrames\n",
        "product_columns = [\"ProductID\", \"ProductName\", \"Category\", \"Price\"]\n",
        "sales_columns = [\"SaleID\", \"ProductID\", \"Quantity\"]\n",
        "\n",
        "# Create DataFrames\n",
        "product_df = spark.createDataFrame(products, schema=product_columns)\n",
        "sales_df = spark.createDataFrame(sales, schema=sales_columns)\n",
        "\n",
        "# Show the DataFrames\n",
        "print(\"Products DataFrame:\")\n",
        "product_df.show()\n",
        "\n",
        "print(\"Sales DataFrame:\")\n",
        "sales_df.show()"
      ],
      "metadata": {
        "colab": {
          "base_uri": "https://localhost:8080/"
        },
        "id": "AU5PaRYARoKp",
        "outputId": "85c453b8-234b-40ee-ea7d-c3234c6a6371"
      },
      "execution_count": null,
      "outputs": [
        {
          "output_type": "stream",
          "name": "stdout",
          "text": [
            "Products DataFrame:\n",
            "+---------+-----------+-----------+-----+\n",
            "|ProductID|ProductName|   Category|Price|\n",
            "+---------+-----------+-----------+-----+\n",
            "|        1|     Laptop|Electronics|50000|\n",
            "|        2| Smartphone|Electronics|30000|\n",
            "|        3|      Table|  Furniture|15000|\n",
            "|        4|      Chair|  Furniture| 5000|\n",
            "|        5| Headphones|Electronics| 2000|\n",
            "+---------+-----------+-----------+-----+\n",
            "\n",
            "Sales DataFrame:\n",
            "+------+---------+--------+\n",
            "|SaleID|ProductID|Quantity|\n",
            "+------+---------+--------+\n",
            "|     1|        1|       2|\n",
            "|     2|        2|       1|\n",
            "|     3|        3|       3|\n",
            "|     4|        1|       1|\n",
            "|     5|        4|       5|\n",
            "|     6|        2|       2|\n",
            "|     7|        5|      10|\n",
            "|     8|        3|       1|\n",
            "+------+---------+--------+\n",
            "\n"
          ]
        }
      ]
    },
    {
      "cell_type": "code",
      "source": [
        "# Join the product and sales DataFrames on ProductID\n",
        "combined_df = product_df.join(sales_df, on=\"ProductID\", how=\"inner\")\n",
        "combined_df.show()\n"
      ],
      "metadata": {
        "colab": {
          "base_uri": "https://localhost:8080/"
        },
        "id": "54TGixolRtFD",
        "outputId": "e1157cd1-8c30-49d2-acb4-5b00ce8f4485"
      },
      "execution_count": null,
      "outputs": [
        {
          "output_type": "stream",
          "name": "stdout",
          "text": [
            "+---------+-----------+-----------+-----+------+--------+\n",
            "|ProductID|ProductName|   Category|Price|SaleID|Quantity|\n",
            "+---------+-----------+-----------+-----+------+--------+\n",
            "|        1|     Laptop|Electronics|50000|     1|       2|\n",
            "|        1|     Laptop|Electronics|50000|     4|       1|\n",
            "|        2| Smartphone|Electronics|30000|     2|       1|\n",
            "|        2| Smartphone|Electronics|30000|     6|       2|\n",
            "|        3|      Table|  Furniture|15000|     3|       3|\n",
            "|        3|      Table|  Furniture|15000|     8|       1|\n",
            "|        4|      Chair|  Furniture| 5000|     5|       5|\n",
            "|        5| Headphones|Electronics| 2000|     7|      10|\n",
            "+---------+-----------+-----------+-----+------+--------+\n",
            "\n"
          ]
        }
      ]
    },
    {
      "cell_type": "code",
      "source": [
        "from pyspark.sql.functions import col\n",
        "\n",
        "# Calculate total sales value\n",
        "combined_df = combined_df.withColumn(\"TotalSalesValue\", col(\"Price\") * col(\"Quantity\"))\n",
        "combined_df.show()\n"
      ],
      "metadata": {
        "colab": {
          "base_uri": "https://localhost:8080/"
        },
        "id": "TS2MwEMASuVE",
        "outputId": "e51d67ba-e3ca-4fdf-d177-3065a4429d1f"
      },
      "execution_count": null,
      "outputs": [
        {
          "output_type": "stream",
          "name": "stdout",
          "text": [
            "+---------+-----------+-----------+-----+------+--------+---------------+\n",
            "|ProductID|ProductName|   Category|Price|SaleID|Quantity|TotalSalesValue|\n",
            "+---------+-----------+-----------+-----+------+--------+---------------+\n",
            "|        1|     Laptop|Electronics|50000|     1|       2|         100000|\n",
            "|        1|     Laptop|Electronics|50000|     4|       1|          50000|\n",
            "|        2| Smartphone|Electronics|30000|     2|       1|          30000|\n",
            "|        2| Smartphone|Electronics|30000|     6|       2|          60000|\n",
            "|        3|      Table|  Furniture|15000|     3|       3|          45000|\n",
            "|        3|      Table|  Furniture|15000|     8|       1|          15000|\n",
            "|        4|      Chair|  Furniture| 5000|     5|       5|          25000|\n",
            "|        5| Headphones|Electronics| 2000|     7|      10|          20000|\n",
            "+---------+-----------+-----------+-----+------+--------+---------------+\n",
            "\n"
          ]
        }
      ]
    },
    {
      "cell_type": "code",
      "source": [
        "# Group by Category and calculate total sales value for each category\n",
        "category_sales_df = combined_df.groupBy(\"Category\").sum(\"TotalSalesValue\")\n",
        "category_sales_df = category_sales_df.withColumnRenamed(\"sum(TotalSalesValue)\", \"TotalSalesValue\")\n",
        "category_sales_df.show()\n"
      ],
      "metadata": {
        "colab": {
          "base_uri": "https://localhost:8080/"
        },
        "id": "XQWbHmVJTGO2",
        "outputId": "bfb476ee-a7dd-4f7f-9e98-005f7f5795ff"
      },
      "execution_count": null,
      "outputs": [
        {
          "output_type": "stream",
          "name": "stdout",
          "text": [
            "+-----------+---------------+\n",
            "|   Category|TotalSalesValue|\n",
            "+-----------+---------------+\n",
            "|Electronics|         260000|\n",
            "|  Furniture|          85000|\n",
            "+-----------+---------------+\n",
            "\n"
          ]
        }
      ]
    },
    {
      "cell_type": "code",
      "source": [
        "# Group by ProductName and calculate total sales value for each product\n",
        "product_sales_df = combined_df.groupBy(\"ProductName\").sum(\"TotalSalesValue\")\n",
        "product_sales_df = product_sales_df.withColumnRenamed(\"sum(TotalSalesValue)\", \"TotalSalesValue\")\n",
        "\n",
        "# Find the top-selling product\n",
        "top_selling_product_df = product_sales_df.orderBy(col(\"TotalSalesValue\").desc()).limit(1)\n",
        "top_selling_product_df.show()\n"
      ],
      "metadata": {
        "colab": {
          "base_uri": "https://localhost:8080/"
        },
        "id": "CoQKOZirTTjC",
        "outputId": "22da96de-d35d-406c-b4c8-16d3ab0ea528"
      },
      "execution_count": null,
      "outputs": [
        {
          "output_type": "stream",
          "name": "stdout",
          "text": [
            "+-----------+---------------+\n",
            "|ProductName|TotalSalesValue|\n",
            "+-----------+---------------+\n",
            "|     Laptop|         150000|\n",
            "+-----------+---------------+\n",
            "\n"
          ]
        }
      ]
    },
    {
      "cell_type": "code",
      "source": [
        "# Sort products by total sales value in descending order\n",
        "sorted_products_df = product_sales_df.orderBy(col(\"TotalSalesValue\").desc())\n",
        "sorted_products_df.show()\n"
      ],
      "metadata": {
        "colab": {
          "base_uri": "https://localhost:8080/"
        },
        "id": "UrkRydt5ThK_",
        "outputId": "c92617ab-e6bb-4de2-daf2-757b5a873b22"
      },
      "execution_count": null,
      "outputs": [
        {
          "output_type": "stream",
          "name": "stdout",
          "text": [
            "+-----------+---------------+\n",
            "|ProductName|TotalSalesValue|\n",
            "+-----------+---------------+\n",
            "|     Laptop|         150000|\n",
            "| Smartphone|          90000|\n",
            "|      Table|          60000|\n",
            "|      Chair|          25000|\n",
            "| Headphones|          20000|\n",
            "+-----------+---------------+\n",
            "\n"
          ]
        }
      ]
    },
    {
      "cell_type": "code",
      "source": [
        "# Count the number of sales transactions for each product\n",
        "product_sales_count_df = combined_df.groupBy(\"ProductName\").count()\n",
        "product_sales_count_df.show()\n"
      ],
      "metadata": {
        "colab": {
          "base_uri": "https://localhost:8080/"
        },
        "id": "ruT5sQlOTpiX",
        "outputId": "d0352d7e-8a97-46fc-9dfe-4582d31d654e"
      },
      "execution_count": null,
      "outputs": [
        {
          "output_type": "stream",
          "name": "stdout",
          "text": [
            "+-----------+-----+\n",
            "|ProductName|count|\n",
            "+-----------+-----+\n",
            "|      Chair|    1|\n",
            "|     Laptop|    2|\n",
            "|      Table|    2|\n",
            "| Smartphone|    2|\n",
            "| Headphones|    1|\n",
            "+-----------+-----+\n",
            "\n"
          ]
        }
      ]
    },
    {
      "cell_type": "code",
      "source": [
        "# Filter products with total sales value greater than 50,000\n",
        "high_value_products_df = product_sales_df.filter(col(\"TotalSalesValue\") > 50000)\n",
        "high_value_products_df.show()\n"
      ],
      "metadata": {
        "colab": {
          "base_uri": "https://localhost:8080/"
        },
        "id": "cUQ7_qtyTtuZ",
        "outputId": "085b32ee-4cfd-4006-9a21-80cbf277135d"
      },
      "execution_count": null,
      "outputs": [
        {
          "output_type": "stream",
          "name": "stdout",
          "text": [
            "+-----------+---------------+\n",
            "|ProductName|TotalSalesValue|\n",
            "+-----------+---------------+\n",
            "|     Laptop|         150000|\n",
            "|      Table|          60000|\n",
            "| Smartphone|          90000|\n",
            "+-----------+---------------+\n",
            "\n"
          ]
        }
      ]
    },
    {
      "cell_type": "code",
      "source": [
        "import pandas as pd\n",
        "from datetime import datetime\n",
        "\n",
        "# Sample sales data\n",
        "data = {\n",
        "    \"TransactionID\": [1, 2, 3, 4, 5, 6, 7, 8, 9, 10],\n",
        "    \"CustomerID\": [101, 102, 103, 101, 104, 102, 103, 104, 101, 105],\n",
        "    \"ProductID\": [501, 502, 501, 503, 504, 502, 503, 504, 501, 505],\n",
        "    \"Quantity\": [2, 1, 4, 3, 1, 2, 5, 1, 2, 1],\n",
        "    \"Price\": [150.0, 250.0, 150.0, 300.0, 450.0, 250.0, 300.0, 450.0, 150.0, 550.0],\n",
        "    \"Date\": [\n",
        "        datetime(2024, 9, 1),\n",
        "        datetime(2024, 9, 1),\n",
        "        datetime(2024, 9, 2),\n",
        "        datetime(2024, 9, 2),\n",
        "        datetime(2024, 9, 3),\n",
        "        datetime(2024, 9, 3),\n",
        "        datetime(2024, 9, 4),\n",
        "        datetime(2024, 9, 4),\n",
        "        datetime(2024, 9, 5),\n",
        "        datetime(2024, 9, 5)\n",
        "    ]\n",
        "}\n",
        "\n",
        "# Create a DataFrame\n",
        "df = pd.DataFrame(data)\n",
        "\n",
        "# Save the DataFrame to a CSV file\n",
        "df.to_csv('/content/sales_data.csv', index=False)\n",
        "\n",
        "print(\"Sample sales dataset has been created and saved as 'sales_data.csv'.\")\n"
      ],
      "metadata": {
        "colab": {
          "base_uri": "https://localhost:8080/"
        },
        "id": "EvHlhyh_p1gD",
        "outputId": "4fb4fa7c-1557-49a6-8987-e22ac0bcbc41"
      },
      "execution_count": null,
      "outputs": [
        {
          "output_type": "stream",
          "name": "stdout",
          "text": [
            "Sample sales dataset has been created and saved as 'sales_data.csv'.\n"
          ]
        }
      ]
    },
    {
      "cell_type": "code",
      "source": [
        "!ls /content\n",
        "\n"
      ],
      "metadata": {
        "colab": {
          "base_uri": "https://localhost:8080/"
        },
        "id": "1jIJV8j6qBCY",
        "outputId": "cef2985f-1131-471c-dd80-b8e65c3fd1e6"
      },
      "execution_count": null,
      "outputs": [
        {
          "output_type": "stream",
          "name": "stdout",
          "text": [
            "sales_data.csv\tsample_data\n"
          ]
        }
      ]
    },
    {
      "cell_type": "code",
      "source": [
        "!pip install pyspark\n",
        "\n",
        "from pyspark.sql import SparkSession\n",
        "\n",
        "# Initialize SparkSession\n",
        "spark = SparkSession.builder \\\n",
        "    .appName(\"Sales Dataset Analysis\") \\\n",
        "    .getOrCreate()\n"
      ],
      "metadata": {
        "colab": {
          "base_uri": "https://localhost:8080/"
        },
        "id": "eL-E50B9qZMP",
        "outputId": "3051a4cf-879b-4d6e-88f7-a57b5e079e70"
      },
      "execution_count": null,
      "outputs": [
        {
          "output_type": "stream",
          "name": "stdout",
          "text": [
            "Requirement already satisfied: pyspark in /usr/local/lib/python3.10/dist-packages (3.5.2)\n",
            "Requirement already satisfied: py4j==0.10.9.7 in /usr/local/lib/python3.10/dist-packages (from pyspark) (0.10.9.7)\n"
          ]
        }
      ]
    },
    {
      "cell_type": "code",
      "source": [
        "# Load the CSV file into a PySpark DataFrame\n",
        "df_spark = spark.read.csv(\"/content/sales_data.csv\", header=True)\n",
        "\n",
        "# Show the first few rows of the DataFrame\n",
        "df_spark.show()\n"
      ],
      "metadata": {
        "colab": {
          "base_uri": "https://localhost:8080/"
        },
        "id": "12Dv-A_SqjlS",
        "outputId": "1995ec39-a8b9-41ac-b6e1-39274b86af22"
      },
      "execution_count": null,
      "outputs": [
        {
          "output_type": "stream",
          "name": "stdout",
          "text": [
            "+-------------+----------+---------+--------+-----+----------+\n",
            "|TransactionID|CustomerID|ProductID|Quantity|Price|      Date|\n",
            "+-------------+----------+---------+--------+-----+----------+\n",
            "|            1|       101|      501|       2|150.0|2024-09-01|\n",
            "|            2|       102|      502|       1|250.0|2024-09-01|\n",
            "|            3|       103|      501|       4|150.0|2024-09-02|\n",
            "|            4|       101|      503|       3|300.0|2024-09-02|\n",
            "|            5|       104|      504|       1|450.0|2024-09-03|\n",
            "|            6|       102|      502|       2|250.0|2024-09-03|\n",
            "|            7|       103|      503|       5|300.0|2024-09-04|\n",
            "|            8|       104|      504|       1|450.0|2024-09-04|\n",
            "|            9|       101|      501|       2|150.0|2024-09-05|\n",
            "|           10|       105|      505|       1|550.0|2024-09-05|\n",
            "+-------------+----------+---------+--------+-----+----------+\n",
            "\n"
          ]
        }
      ]
    },
    {
      "cell_type": "code",
      "source": [
        "df_spark.printSchema()\n"
      ],
      "metadata": {
        "colab": {
          "base_uri": "https://localhost:8080/"
        },
        "id": "SAeTf9QOq4SR",
        "outputId": "509230ba-8cf1-4e62-c541-2edab12c8c2e"
      },
      "execution_count": null,
      "outputs": [
        {
          "output_type": "stream",
          "name": "stdout",
          "text": [
            "root\n",
            " |-- TransactionID: string (nullable = true)\n",
            " |-- CustomerID: string (nullable = true)\n",
            " |-- ProductID: string (nullable = true)\n",
            " |-- Quantity: string (nullable = true)\n",
            " |-- Price: string (nullable = true)\n",
            " |-- Date: string (nullable = true)\n",
            "\n"
          ]
        }
      ]
    },
    {
      "cell_type": "code",
      "source": [
        "df_spark.show(5)\n"
      ],
      "metadata": {
        "colab": {
          "base_uri": "https://localhost:8080/"
        },
        "id": "vT-MLssGq-X1",
        "outputId": "f80b0ad0-f48a-4281-ab44-313919e4b51e"
      },
      "execution_count": null,
      "outputs": [
        {
          "output_type": "stream",
          "name": "stdout",
          "text": [
            "+-------------+----------+---------+--------+-----+----------+\n",
            "|TransactionID|CustomerID|ProductID|Quantity|Price|      Date|\n",
            "+-------------+----------+---------+--------+-----+----------+\n",
            "|            1|       101|      501|       2|150.0|2024-09-01|\n",
            "|            2|       102|      502|       1|250.0|2024-09-01|\n",
            "|            3|       103|      501|       4|150.0|2024-09-02|\n",
            "|            4|       101|      503|       3|300.0|2024-09-02|\n",
            "|            5|       104|      504|       1|450.0|2024-09-03|\n",
            "+-------------+----------+---------+--------+-----+----------+\n",
            "only showing top 5 rows\n",
            "\n"
          ]
        }
      ]
    },
    {
      "cell_type": "code",
      "source": [
        "df_spark.describe(\"Quantity\", \"Price\").show()\n"
      ],
      "metadata": {
        "colab": {
          "base_uri": "https://localhost:8080/"
        },
        "id": "81kL2E4_rGFQ",
        "outputId": "311bf7fe-4425-4537-d8af-1b5e0d8b1087"
      },
      "execution_count": null,
      "outputs": [
        {
          "output_type": "stream",
          "name": "stdout",
          "text": [
            "+-------+-----------------+-----------------+\n",
            "|summary|         Quantity|            Price|\n",
            "+-------+-----------------+-----------------+\n",
            "|  count|               10|               10|\n",
            "|   mean|              2.2|            300.0|\n",
            "| stddev|1.398411797560202|141.4213562373095|\n",
            "|    min|                1|            150.0|\n",
            "|    max|                5|            550.0|\n",
            "+-------+-----------------+-----------------+\n",
            "\n"
          ]
        }
      ]
    },
    {
      "cell_type": "code",
      "source": [
        "from pyspark.sql.functions import col\n",
        "\n",
        "df_spark = df_spark.withColumn(\"TotalSales\", col(\"Quantity\") * col(\"Price\"))\n",
        "df_spark.show()\n"
      ],
      "metadata": {
        "colab": {
          "base_uri": "https://localhost:8080/"
        },
        "id": "TZhiBoixrNWL",
        "outputId": "81082c14-6108-4fc2-abd4-84123b39ddbd"
      },
      "execution_count": null,
      "outputs": [
        {
          "output_type": "stream",
          "name": "stdout",
          "text": [
            "+-------------+----------+---------+--------+-----+----------+----------+\n",
            "|TransactionID|CustomerID|ProductID|Quantity|Price|      Date|TotalSales|\n",
            "+-------------+----------+---------+--------+-----+----------+----------+\n",
            "|            1|       101|      501|       2|150.0|2024-09-01|     300.0|\n",
            "|            2|       102|      502|       1|250.0|2024-09-01|     250.0|\n",
            "|            3|       103|      501|       4|150.0|2024-09-02|     600.0|\n",
            "|            4|       101|      503|       3|300.0|2024-09-02|     900.0|\n",
            "|            5|       104|      504|       1|450.0|2024-09-03|     450.0|\n",
            "|            6|       102|      502|       2|250.0|2024-09-03|     500.0|\n",
            "|            7|       103|      503|       5|300.0|2024-09-04|    1500.0|\n",
            "|            8|       104|      504|       1|450.0|2024-09-04|     450.0|\n",
            "|            9|       101|      501|       2|150.0|2024-09-05|     300.0|\n",
            "|           10|       105|      505|       1|550.0|2024-09-05|     550.0|\n",
            "+-------------+----------+---------+--------+-----+----------+----------+\n",
            "\n"
          ]
        }
      ]
    },
    {
      "cell_type": "code",
      "source": [
        "total_sales_per_product = df_spark.groupBy(\"ProductID\").sum(\"TotalSales\")\n",
        "total_sales_per_product = total_sales_per_product.withColumnRenamed(\"sum(TotalSales)\", \"TotalSales\")\n",
        "total_sales_per_product.show()\n"
      ],
      "metadata": {
        "colab": {
          "base_uri": "https://localhost:8080/"
        },
        "id": "oVG0350vrTLc",
        "outputId": "15234a81-d3a9-4b36-9560-39ec8330f252"
      },
      "execution_count": null,
      "outputs": [
        {
          "output_type": "stream",
          "name": "stdout",
          "text": [
            "+---------+----------+\n",
            "|ProductID|TotalSales|\n",
            "+---------+----------+\n",
            "|      503|    2400.0|\n",
            "|      502|     750.0|\n",
            "|      505|     550.0|\n",
            "|      501|    1200.0|\n",
            "|      504|     900.0|\n",
            "+---------+----------+\n",
            "\n"
          ]
        }
      ]
    },
    {
      "cell_type": "code",
      "source": [
        "top_selling_product = total_sales_per_product.orderBy(col(\"TotalSales\").desc()).first()\n",
        "print(f\"Top-Selling Product: ProductID = {top_selling_product['ProductID']}, TotalSales = {top_selling_product['TotalSales']}\")\n"
      ],
      "metadata": {
        "colab": {
          "base_uri": "https://localhost:8080/"
        },
        "id": "TRSLtft6rVm7",
        "outputId": "66a8cdd2-1f93-450f-94cd-756b53d5dd72"
      },
      "execution_count": null,
      "outputs": [
        {
          "output_type": "stream",
          "name": "stdout",
          "text": [
            "Top-Selling Product: ProductID = 503, TotalSales = 2400.0\n"
          ]
        }
      ]
    },
    {
      "cell_type": "code",
      "source": [
        "total_sales_by_date = df_spark.groupBy(\"Date\").sum(\"TotalSales\")\n",
        "total_sales_by_date = total_sales_by_date.withColumnRenamed(\"sum(TotalSales)\", \"TotalSales\")\n",
        "total_sales_by_date.show()\n"
      ],
      "metadata": {
        "colab": {
          "base_uri": "https://localhost:8080/"
        },
        "id": "7BH9HE61riBU",
        "outputId": "9c507b8d-dc51-4c01-83c3-a6f2c8b49a01"
      },
      "execution_count": null,
      "outputs": [
        {
          "output_type": "stream",
          "name": "stdout",
          "text": [
            "+----------+----------+\n",
            "|      Date|TotalSales|\n",
            "+----------+----------+\n",
            "|2024-09-05|     850.0|\n",
            "|2024-09-04|    1950.0|\n",
            "|2024-09-02|    1500.0|\n",
            "|2024-09-03|     950.0|\n",
            "|2024-09-01|     550.0|\n",
            "+----------+----------+\n",
            "\n"
          ]
        }
      ]
    },
    {
      "cell_type": "code",
      "source": [
        "high_value_transactions = df_spark.filter(col(\"TotalSales\") > 500)\n",
        "high_value_transactions.show()\n"
      ],
      "metadata": {
        "colab": {
          "base_uri": "https://localhost:8080/"
        },
        "id": "imwhrmQLrnd-",
        "outputId": "8e42d517-4c9d-40dc-c28c-8af2876e567f"
      },
      "execution_count": null,
      "outputs": [
        {
          "output_type": "stream",
          "name": "stdout",
          "text": [
            "+-------------+----------+---------+--------+-----+----------+----------+\n",
            "|TransactionID|CustomerID|ProductID|Quantity|Price|      Date|TotalSales|\n",
            "+-------------+----------+---------+--------+-----+----------+----------+\n",
            "|            3|       103|      501|       4|150.0|2024-09-02|     600.0|\n",
            "|            4|       101|      503|       3|300.0|2024-09-02|     900.0|\n",
            "|            7|       103|      503|       5|300.0|2024-09-04|    1500.0|\n",
            "|           10|       105|      505|       1|550.0|2024-09-05|     550.0|\n",
            "+-------------+----------+---------+--------+-----+----------+----------+\n",
            "\n"
          ]
        }
      ]
    },
    {
      "cell_type": "code",
      "source": [
        "from pyspark.sql.functions import count\n",
        "\n",
        "repeat_customers = df_spark.groupBy(\"CustomerID\").agg(count(\"TransactionID\").alias(\"PurchaseCount\"))\n",
        "repeat_customers = repeat_customers.filter(col(\"PurchaseCount\") > 1)\n",
        "repeat_customers.show()\n"
      ],
      "metadata": {
        "colab": {
          "base_uri": "https://localhost:8080/"
        },
        "id": "IbdsrfzLru5s",
        "outputId": "22a59d66-7842-4637-d5c4-6220c69dfc8d"
      },
      "execution_count": null,
      "outputs": [
        {
          "output_type": "stream",
          "name": "stdout",
          "text": [
            "+----------+-------------+\n",
            "|CustomerID|PurchaseCount|\n",
            "+----------+-------------+\n",
            "|       101|            3|\n",
            "|       104|            2|\n",
            "|       102|            2|\n",
            "|       103|            2|\n",
            "+----------+-------------+\n",
            "\n"
          ]
        }
      ]
    },
    {
      "cell_type": "code",
      "source": [
        "from pyspark.sql.functions import col, sum, avg\n",
        "\n",
        "avg_price_per_product = df_spark.groupBy(\"ProductID\").agg(\n",
        "    (sum(col(\"Price\") * col(\"Quantity\")) / sum(col(\"Quantity\"))).alias(\"AveragePricePerUnit\")\n",
        ")\n",
        "avg_price_per_product.show()\n"
      ],
      "metadata": {
        "colab": {
          "base_uri": "https://localhost:8080/"
        },
        "id": "bGySLjYjry4Z",
        "outputId": "481b9a27-1faa-4166-f102-404491a8fceb"
      },
      "execution_count": null,
      "outputs": [
        {
          "output_type": "stream",
          "name": "stdout",
          "text": [
            "+---------+-------------------+\n",
            "|ProductID|AveragePricePerUnit|\n",
            "+---------+-------------------+\n",
            "|      503|              300.0|\n",
            "|      502|              250.0|\n",
            "|      505|              550.0|\n",
            "|      501|              150.0|\n",
            "|      504|              450.0|\n",
            "+---------+-------------------+\n",
            "\n"
          ]
        }
      ]
    },
    {
      "cell_type": "code",
      "source": [
        "from pyspark.sql import SparkSession\n",
        "from pyspark.sql.functions import col\n",
        "\n",
        "spark = SparkSession.builder \\\n",
        "        .appName(\"pyspark notebook example\") \\\n",
        "        .getOrCreate()\n",
        "\n",
        "data = [\n",
        "    (\"John Doe\",\"Engineering\",75000),\n",
        "    (\"John Smith\",\"Marketing\",60000),\n",
        "    (\"Sam Brown\",\"Engineering\",80000),\n",
        "    (\"Emily Davis\",\"HR\",50000),\n",
        "    (\"Michael Johnson\",\"Marketing\",70000)\n",
        "]\n",
        "\n",
        "columns = [\"Name\",\"Departmnet\",\"Salary\"]\n",
        "\n",
        "df = spark.createDataFrame(data,schema=columns)\n",
        "\n",
        "df.show()"
      ],
      "metadata": {
        "colab": {
          "base_uri": "https://localhost:8080/"
        },
        "id": "FTiIfxeiB0ay",
        "outputId": "011ea6c3-f943-41cf-a859-922338e57776"
      },
      "execution_count": null,
      "outputs": [
        {
          "output_type": "stream",
          "name": "stdout",
          "text": [
            "+---------------+-----------+------+\n",
            "|           Name| Departmnet|Salary|\n",
            "+---------------+-----------+------+\n",
            "|       John Doe|Engineering| 75000|\n",
            "|     John Smith|  Marketing| 60000|\n",
            "|      Sam Brown|Engineering| 80000|\n",
            "|    Emily Davis|         HR| 50000|\n",
            "|Michael Johnson|  Marketing| 70000|\n",
            "+---------------+-----------+------+\n",
            "\n"
          ]
        }
      ]
    },
    {
      "cell_type": "code",
      "source": [
        "high_salary_df = df.filter(col(\"Salary\")>65000)\n",
        "print(\"Employees with salary > 65,000\")\n",
        "high_salary_df.show()"
      ],
      "metadata": {
        "colab": {
          "base_uri": "https://localhost:8080/"
        },
        "id": "bijnLPBoEpCf",
        "outputId": "6843017d-f65d-40cb-f9cd-8d07eb7376f2"
      },
      "execution_count": null,
      "outputs": [
        {
          "output_type": "stream",
          "name": "stdout",
          "text": [
            "Employees with salary > 65,000\n",
            "+---------------+-----------+------+\n",
            "|           Name| Departmnet|Salary|\n",
            "+---------------+-----------+------+\n",
            "|       John Doe|Engineering| 75000|\n",
            "|      Sam Brown|Engineering| 80000|\n",
            "|Michael Johnson|  Marketing| 70000|\n",
            "+---------------+-----------+------+\n",
            "\n"
          ]
        }
      ]
    },
    {
      "cell_type": "code",
      "source": [
        "avg_salary_df = df.groupBy(\"Departmnet\").avg(\"Salary\")\n",
        "print(\"Average salary by Department\")\n",
        "avg_salary_df.show()"
      ],
      "metadata": {
        "colab": {
          "base_uri": "https://localhost:8080/"
        },
        "id": "ZGQUFfxaE8cv",
        "outputId": "65816f9f-75b0-48cb-a541-492989b9d83b"
      },
      "execution_count": null,
      "outputs": [
        {
          "output_type": "stream",
          "name": "stdout",
          "text": [
            "Average salary by Department\n",
            "+-----------+-----------+\n",
            "| Departmnet|avg(Salary)|\n",
            "+-----------+-----------+\n",
            "|Engineering|    77500.0|\n",
            "|  Marketing|    65000.0|\n",
            "|         HR|    50000.0|\n",
            "+-----------+-----------+\n",
            "\n"
          ]
        }
      ]
    },
    {
      "cell_type": "code",
      "source": [
        "# Install PySpark\n",
        "!pip install pyspark\n",
        "\n",
        "# Import required libraries\n",
        "from pyspark.sql import SparkSession\n",
        "\n",
        "# Initialize Spark session\n",
        "spark = SparkSession.builder \\\n",
        "    .appName(\"SalesDataAnalysis\") \\\n",
        "    .getOrCreate()\n",
        "\n",
        "# Get the Spark context from the session\n",
        "sc = spark.sparkContext\n"
      ],
      "metadata": {
        "colab": {
          "base_uri": "https://localhost:8080/"
        },
        "id": "nKsGnbzEJyEC",
        "outputId": "86e30376-2b47-41ac-93cd-6bf97f931a64"
      },
      "execution_count": null,
      "outputs": [
        {
          "output_type": "stream",
          "name": "stdout",
          "text": [
            "Requirement already satisfied: pyspark in /usr/local/lib/python3.10/dist-packages (3.5.2)\n",
            "Requirement already satisfied: py4j==0.10.9.7 in /usr/local/lib/python3.10/dist-packages (from pyspark) (0.10.9.7)\n"
          ]
        }
      ]
    },
    {
      "cell_type": "code",
      "source": [
        "# Define sales data\n",
        "sales_data = [\n",
        "    (\"ProductA\", 100),\n",
        "    (\"ProductB\", 150),\n",
        "    (\"ProductA\", 200),\n",
        "    (\"ProductC\", 300),\n",
        "    (\"ProductB\", 250),\n",
        "    (\"ProductC\", 100)\n",
        "]\n",
        "\n",
        "# Create an RDD from the sales data\n",
        "sales_rdd = sc.parallelize(sales_data)\n",
        "\n",
        "# Print the first few elements of the RDD\n",
        "print(sales_rdd.take(3))\n"
      ],
      "metadata": {
        "colab": {
          "base_uri": "https://localhost:8080/"
        },
        "id": "kp5oQu3hWe-4",
        "outputId": "babc650a-38e9-4cea-d949-156b5b3ce265"
      },
      "execution_count": null,
      "outputs": [
        {
          "output_type": "stream",
          "name": "stdout",
          "text": [
            "[('ProductA', 100), ('ProductB', 150), ('ProductA', 200)]\n"
          ]
        }
      ]
    },
    {
      "cell_type": "code",
      "source": [
        "# Group data by product name\n",
        "grouped_rdd = sales_rdd.groupByKey()\n",
        "\n",
        "# Print the grouped data\n",
        "for product, sales in grouped_rdd.collect():\n",
        "    print(f\"{product}: {list(sales)}\")\n"
      ],
      "metadata": {
        "colab": {
          "base_uri": "https://localhost:8080/"
        },
        "id": "arneUvKoWv1h",
        "outputId": "f6077057-e2e2-4616-f7c4-8cedc06ac559"
      },
      "execution_count": null,
      "outputs": [
        {
          "output_type": "stream",
          "name": "stdout",
          "text": [
            "ProductA: [100, 200]\n",
            "ProductB: [150, 250]\n",
            "ProductC: [300, 100]\n"
          ]
        }
      ]
    },
    {
      "cell_type": "code",
      "source": [
        "# Calculate total sales by product\n",
        "total_sales_rdd = sales_rdd.reduceByKey(lambda x, y: x + y)\n",
        "\n",
        "# Print total sales for each product\n",
        "for product, total_sales in total_sales_rdd.collect():\n",
        "    print(f\"{product}: {total_sales}\")\n"
      ],
      "metadata": {
        "colab": {
          "base_uri": "https://localhost:8080/"
        },
        "id": "z37PUI_sW0Io",
        "outputId": "784d659a-f907-4750-9f1e-623deaf3cadf"
      },
      "execution_count": null,
      "outputs": [
        {
          "output_type": "stream",
          "name": "stdout",
          "text": [
            "ProductA: 300\n",
            "ProductB: 400\n",
            "ProductC: 400\n"
          ]
        }
      ]
    },
    {
      "cell_type": "code",
      "source": [
        "# Sort products by total sales in descending order\n",
        "sorted_sales_rdd = total_sales_rdd.sortBy(lambda x: x[1], ascending=False)\n",
        "\n",
        "# Print sorted list of products with their sales amounts\n",
        "for product, total_sales in sorted_sales_rdd.collect():\n",
        "    print(f\"{product}: {total_sales}\")\n"
      ],
      "metadata": {
        "colab": {
          "base_uri": "https://localhost:8080/"
        },
        "id": "s1MmNYEjXD2U",
        "outputId": "95b16000-7234-4b11-d481-f61ac132a7cb"
      },
      "execution_count": null,
      "outputs": [
        {
          "output_type": "stream",
          "name": "stdout",
          "text": [
            "ProductB: 400\n",
            "ProductC: 400\n",
            "ProductA: 300\n"
          ]
        }
      ]
    },
    {
      "cell_type": "code",
      "source": [
        "# Filter products with total sales greater than 200\n",
        "high_sales_rdd = total_sales_rdd.filter(lambda x: x[1] > 200)\n",
        "\n",
        "# Print the products that meet this condition\n",
        "for product, total_sales in high_sales_rdd.collect():\n",
        "    print(f\"{product}: {total_sales}\")\n"
      ],
      "metadata": {
        "colab": {
          "base_uri": "https://localhost:8080/"
        },
        "id": "iBuOjGeZXLPs",
        "outputId": "ee72fe40-6a52-4d1e-f16b-eba2590f3751"
      },
      "execution_count": null,
      "outputs": [
        {
          "output_type": "stream",
          "name": "stdout",
          "text": [
            "ProductA: 300\n",
            "ProductB: 400\n",
            "ProductC: 400\n"
          ]
        }
      ]
    },
    {
      "cell_type": "code",
      "source": [
        "# Define regional sales data\n",
        "regional_sales_data = [\n",
        "    (\"ProductA\", 50),\n",
        "    (\"ProductC\", 150)\n",
        "]\n",
        "\n",
        "# Create an RDD from the regional sales data\n",
        "regional_sales_rdd = sc.parallelize(regional_sales_data)\n",
        "\n",
        "# Union the two RDDs\n",
        "combined_rdd = sales_rdd.union(regional_sales_rdd)\n",
        "\n",
        "# Calculate the new total sales for each product\n",
        "new_total_sales_rdd = combined_rdd.reduceByKey(lambda x, y: x + y)\n",
        "\n",
        "# Print the combined sales data\n",
        "for product, total_sales in new_total_sales_rdd.collect():\n",
        "    print(f\"{product}: {total_sales}\")\n"
      ],
      "metadata": {
        "colab": {
          "base_uri": "https://localhost:8080/"
        },
        "id": "xl7KoQ7hXQdd",
        "outputId": "1747adef-a293-40ae-fdb2-ebd5c766b4ac"
      },
      "execution_count": null,
      "outputs": [
        {
          "output_type": "stream",
          "name": "stdout",
          "text": [
            "ProductA: 350\n",
            "ProductC: 550\n",
            "ProductB: 400\n"
          ]
        }
      ]
    },
    {
      "cell_type": "code",
      "source": [
        "# Count the number of distinct products\n",
        "distinct_products_count = sales_rdd.map(lambda x: x[0]).distinct().count()\n",
        "\n",
        "# Print the count of distinct products\n",
        "print(f\"Number of distinct products: {distinct_products_count}\")\n"
      ],
      "metadata": {
        "colab": {
          "base_uri": "https://localhost:8080/"
        },
        "id": "4_oWF5MhXUEv",
        "outputId": "13c498a5-269f-4438-ac13-36f08ba9d135"
      },
      "execution_count": null,
      "outputs": [
        {
          "output_type": "stream",
          "name": "stdout",
          "text": [
            "Number of distinct products: 3\n"
          ]
        }
      ]
    },
    {
      "cell_type": "code",
      "source": [
        "# Find the product with the maximum total sales\n",
        "max_sales_product = total_sales_rdd.reduce(lambda a, b: a if a[1] > b[1] else b)\n",
        "\n",
        "# Print the product name and its total sales amount\n",
        "print(f\"Product with maximum sales: {max_sales_product[0]} with sales amount: {max_sales_product[1]}\")\n"
      ],
      "metadata": {
        "colab": {
          "base_uri": "https://localhost:8080/"
        },
        "id": "nsDQ7BGsXXlQ",
        "outputId": "86ddf3eb-fe94-4530-9059-8b10d120c053"
      },
      "execution_count": null,
      "outputs": [
        {
          "output_type": "stream",
          "name": "stdout",
          "text": [
            "Product with maximum sales: ProductC with sales amount: 400\n"
          ]
        }
      ]
    },
    {
      "cell_type": "code",
      "source": [
        "# Calculate the average sales amount per product\n",
        "count_rdd = sales_rdd.mapValues(lambda x: (x, 1)) \\\n",
        "                     .reduceByKey(lambda a, b: (a[0] + b[0], a[1] + b[1]))\n",
        "\n",
        "average_sales_rdd = count_rdd.mapValues(lambda x: x[0] / x[1])\n",
        "\n",
        "# Print the average sales for each product\n",
        "for product, average_sales in average_sales_rdd.collect():\n",
        "    print(f\"{product}: {average_sales:.2f}\")\n"
      ],
      "metadata": {
        "id": "YfuvLbMGXg2z",
        "outputId": "3c09a4d0-e6ff-4274-89d0-ee4649ead007",
        "colab": {
          "base_uri": "https://localhost:8080/"
        }
      },
      "execution_count": null,
      "outputs": [
        {
          "output_type": "stream",
          "name": "stdout",
          "text": [
            "ProductA: 150.00\n",
            "ProductB: 200.00\n",
            "ProductC: 200.00\n"
          ]
        }
      ]
    },
    {
      "cell_type": "code",
      "source": [
        "from pyspark.sql import SparkSession\n",
        "from pyspark.sql.functions import col\n",
        "\n",
        "spark = SparkSession.builder \\\n",
        ".appName(\"Employee Data Analysis\") \\\n",
        ".getOrCreate()\n",
        "\n",
        "data = [\n",
        "    (1,'Arjun','IT',75000),\n",
        "    (2,'Vijay','Finance',85000),\n",
        "    (3,'Shalini','IT',90000),\n",
        "    (4,'Sneha','HR',50000),\n",
        "    (5,'Rahul','Finance',60000),\n",
        "    (6,'Amit','IT',55000),\n",
        "]\n",
        "\n",
        "columns = ['EmployeeID','EmployeeName','Department','Salary']\n",
        "\n",
        "employee_df = spark.createDataFrame(data,columns)\n",
        "\n",
        "employee_df.show()"
      ],
      "metadata": {
        "colab": {
          "base_uri": "https://localhost:8080/"
        },
        "id": "WQeP7vq9T3MY",
        "outputId": "e11a44f8-f8ac-422a-c3a2-6ada19f67fb7"
      },
      "execution_count": null,
      "outputs": [
        {
          "output_type": "stream",
          "name": "stdout",
          "text": [
            "+----------+------------+----------+------+\n",
            "|EmployeeID|EmployeeName|Department|Salary|\n",
            "+----------+------------+----------+------+\n",
            "|         1|       Arjun|        IT| 75000|\n",
            "|         2|       Vijay|   Finance| 85000|\n",
            "|         3|     Shalini|        IT| 90000|\n",
            "|         4|       Sneha|        HR| 50000|\n",
            "|         5|       Rahul|   Finance| 60000|\n",
            "|         6|        Amit|        IT| 55000|\n",
            "+----------+------------+----------+------+\n",
            "\n"
          ]
        }
      ]
    },
    {
      "cell_type": "code",
      "source": [
        "filtered_df = employee_df.filter(col('Salary') > 60000)\n",
        "filtered_df.show()\n"
      ],
      "metadata": {
        "colab": {
          "base_uri": "https://localhost:8080/"
        },
        "id": "ZdgfgWMLVP_n",
        "outputId": "ed736182-8f45-434f-e0f0-286105872532"
      },
      "execution_count": null,
      "outputs": [
        {
          "output_type": "stream",
          "name": "stdout",
          "text": [
            "+----------+------------+----------+------+\n",
            "|EmployeeID|EmployeeName|Department|Salary|\n",
            "+----------+------------+----------+------+\n",
            "|         1|       Arjun|        IT| 75000|\n",
            "|         2|       Vijay|   Finance| 85000|\n",
            "|         3|     Shalini|        IT| 90000|\n",
            "+----------+------------+----------+------+\n",
            "\n"
          ]
        }
      ]
    },
    {
      "cell_type": "code",
      "source": [
        "from pyspark.sql.functions import avg\n",
        "avg_salary_df = employee_df.groupBy('Department').agg(avg('Salary').alias('AverageSalary'))\n",
        "avg_salary_df.show()\n"
      ],
      "metadata": {
        "colab": {
          "base_uri": "https://localhost:8080/"
        },
        "id": "J_m4sBHFVWCc",
        "outputId": "83a920e3-b61c-440c-8357-57935fd99810"
      },
      "execution_count": null,
      "outputs": [
        {
          "output_type": "stream",
          "name": "stdout",
          "text": [
            "+----------+-----------------+\n",
            "|Department|    AverageSalary|\n",
            "+----------+-----------------+\n",
            "|   Finance|          72500.0|\n",
            "|        IT|73333.33333333333|\n",
            "|        HR|          50000.0|\n",
            "+----------+-----------------+\n",
            "\n"
          ]
        }
      ]
    },
    {
      "cell_type": "code",
      "source": [
        "sorted_df = employee_df.orderBy(col('Salary').desc())\n",
        "sorted_df.show()\n"
      ],
      "metadata": {
        "colab": {
          "base_uri": "https://localhost:8080/"
        },
        "id": "3kiwzxVLVY6J",
        "outputId": "51c096e1-49f2-4d67-acb5-745d1bdc102c"
      },
      "execution_count": null,
      "outputs": [
        {
          "output_type": "stream",
          "name": "stdout",
          "text": [
            "+----------+------------+----------+------+\n",
            "|EmployeeID|EmployeeName|Department|Salary|\n",
            "+----------+------------+----------+------+\n",
            "|         3|     Shalini|        IT| 90000|\n",
            "|         2|       Vijay|   Finance| 85000|\n",
            "|         1|       Arjun|        IT| 75000|\n",
            "|         5|       Rahul|   Finance| 60000|\n",
            "|         6|        Amit|        IT| 55000|\n",
            "|         4|       Sneha|        HR| 50000|\n",
            "+----------+------------+----------+------+\n",
            "\n"
          ]
        }
      ]
    },
    {
      "cell_type": "code",
      "source": [
        "employee_with_bonus_df = employee_df.withColumn('Bonus', col('Salary') * 0.1)\n",
        "employee_with_bonus_df.show()\n"
      ],
      "metadata": {
        "colab": {
          "base_uri": "https://localhost:8080/"
        },
        "id": "-TctNeWlVbu8",
        "outputId": "c36e496b-c919-40f9-a13f-769b475e3cdd"
      },
      "execution_count": null,
      "outputs": [
        {
          "output_type": "stream",
          "name": "stdout",
          "text": [
            "+----------+------------+----------+------+------+\n",
            "|EmployeeID|EmployeeName|Department|Salary| Bonus|\n",
            "+----------+------------+----------+------+------+\n",
            "|         1|       Arjun|        IT| 75000|7500.0|\n",
            "|         2|       Vijay|   Finance| 85000|8500.0|\n",
            "|         3|     Shalini|        IT| 90000|9000.0|\n",
            "|         4|       Sneha|        HR| 50000|5000.0|\n",
            "|         5|       Rahul|   Finance| 60000|6000.0|\n",
            "|         6|        Amit|        IT| 55000|5500.0|\n",
            "+----------+------------+----------+------+------+\n",
            "\n"
          ]
        }
      ]
    },
    {
      "cell_type": "code",
      "source": [
        "from pyspark.sql import SparkSession\n",
        "from pyspark.sql import functions as F\n",
        "from pyspark.sql.window import Window\n",
        "\n",
        "# Initialize a Spark session\n",
        "spark = SparkSession.builder \\\n",
        "    .appName(\"Advanced DataFrame Operations - Different Dataset\") \\\n",
        "    .getOrCreate()\n",
        "\n",
        "# Create two sample DataFrames for Product Sales\n",
        "data1 = [\n",
        "    (1, 'Product A', 'Electronics', 1200, '2022-05-10'),\n",
        "    (2, 'Product B', 'Clothing', 500, '2022-07-15'),\n",
        "    (3, 'Product C', 'Electronics', 1800, '2021-11-05')\n",
        "]\n",
        "\n",
        "data2 = [\n",
        "    (4, 'Product D', 'Furniture', 3000, '2022-03-25'),\n",
        "    (5, 'Product E', 'Clothing', 800, '2022-09-12'),\n",
        "    (6, 'Product F', 'Electronics', 1500, '2021-10-19')\n",
        "]\n",
        "\n",
        "# Define schema (columns)\n",
        "columns = ['ProductID', 'ProductName', 'Category', 'Price', 'SaleDate']\n",
        "\n",
        "# Create DataFrames\n",
        "sales_df1 = spark.createDataFrame(data1, columns)\n",
        "sales_df2 = spark.createDataFrame(data2, columns)"
      ],
      "metadata": {
        "id": "QHmWRpvk0GPv"
      },
      "execution_count": null,
      "outputs": []
    },
    {
      "cell_type": "code",
      "source": [
        "combined_df = sales_df1.union(sales_df2).dropDuplicates()\n",
        "combined_df.show()"
      ],
      "metadata": {
        "colab": {
          "base_uri": "https://localhost:8080/"
        },
        "id": "_nbhxk8t082r",
        "outputId": "26e783d9-d184-42e5-ca12-716888667783"
      },
      "execution_count": null,
      "outputs": [
        {
          "output_type": "stream",
          "name": "stdout",
          "text": [
            "+---------+-----------+-----------+-----+----------+\n",
            "|ProductID|ProductName|   Category|Price|  SaleDate|\n",
            "+---------+-----------+-----------+-----+----------+\n",
            "|        1|  Product A|Electronics| 1200|2022-05-10|\n",
            "|        2|  Product B|   Clothing|  500|2022-07-15|\n",
            "|        3|  Product C|Electronics| 1800|2021-11-05|\n",
            "|        4|  Product D|  Furniture| 3000|2022-03-25|\n",
            "|        6|  Product F|Electronics| 1500|2021-10-19|\n",
            "|        5|  Product E|   Clothing|  800|2022-09-12|\n",
            "+---------+-----------+-----------+-----+----------+\n",
            "\n"
          ]
        }
      ]
    },
    {
      "cell_type": "code",
      "source": [
        "combined_with_duplicates_df = sales_df1.union(sales_df2)\n",
        "combined_with_duplicates_df.show()"
      ],
      "metadata": {
        "colab": {
          "base_uri": "https://localhost:8080/"
        },
        "id": "-HkwGZFr1RuE",
        "outputId": "3df1736b-beec-4c7d-f3d3-4760dd663e60"
      },
      "execution_count": null,
      "outputs": [
        {
          "output_type": "stream",
          "name": "stdout",
          "text": [
            "+---------+-----------+-----------+-----+----------+\n",
            "|ProductID|ProductName|   Category|Price|  SaleDate|\n",
            "+---------+-----------+-----------+-----+----------+\n",
            "|        1|  Product A|Electronics| 1200|2022-05-10|\n",
            "|        2|  Product B|   Clothing|  500|2022-07-15|\n",
            "|        3|  Product C|Electronics| 1800|2021-11-05|\n",
            "|        4|  Product D|  Furniture| 3000|2022-03-25|\n",
            "|        5|  Product E|   Clothing|  800|2022-09-12|\n",
            "|        6|  Product F|Electronics| 1500|2021-10-19|\n",
            "+---------+-----------+-----------+-----+----------+\n",
            "\n"
          ]
        }
      ]
    },
    {
      "cell_type": "code",
      "source": [
        "window_spec = Window.partitionBy('Category').orderBy(F.desc('Price'))\n",
        "ranked_df = sales_df1.withColumn('Rank', F.row_number().over(window_spec))\n",
        "ranked_df.show()"
      ],
      "metadata": {
        "colab": {
          "base_uri": "https://localhost:8080/"
        },
        "id": "_ijZasiJ1TtV",
        "outputId": "2edce8cc-b8dd-456b-dbab-06d6852ef591"
      },
      "execution_count": null,
      "outputs": [
        {
          "output_type": "stream",
          "name": "stdout",
          "text": [
            "+---------+-----------+-----------+-----+----------+----+\n",
            "|ProductID|ProductName|   Category|Price|  SaleDate|Rank|\n",
            "+---------+-----------+-----------+-----+----------+----+\n",
            "|        2|  Product B|   Clothing|  500|2022-07-15|   1|\n",
            "|        3|  Product C|Electronics| 1800|2021-11-05|   1|\n",
            "|        1|  Product A|Electronics| 1200|2022-05-10|   2|\n",
            "+---------+-----------+-----------+-----+----------+----+\n",
            "\n"
          ]
        }
      ]
    },
    {
      "cell_type": "code",
      "source": [
        "cumulative_window_spec = Window.partitionBy('Category').orderBy('SaleDate').rowsBetween(Window.unboundedPreceding, Window.currentRow)\n",
        "cumulative_df = sales_df1.withColumn('CumulativePrice', F.sum('Price').over(cumulative_window_spec))\n",
        "cumulative_df.show()\n"
      ],
      "metadata": {
        "colab": {
          "base_uri": "https://localhost:8080/"
        },
        "id": "ys6xRDWD1bvX",
        "outputId": "8752237d-2077-4432-97b1-329422ff8244"
      },
      "execution_count": null,
      "outputs": [
        {
          "output_type": "stream",
          "name": "stdout",
          "text": [
            "+---------+-----------+-----------+-----+----------+---------------+\n",
            "|ProductID|ProductName|   Category|Price|  SaleDate|CumulativePrice|\n",
            "+---------+-----------+-----------+-----+----------+---------------+\n",
            "|        2|  Product B|   Clothing|  500|2022-07-15|            500|\n",
            "|        3|  Product C|Electronics| 1800|2021-11-05|           1800|\n",
            "|        1|  Product A|Electronics| 1200|2022-05-10|           3000|\n",
            "+---------+-----------+-----------+-----+----------+---------------+\n",
            "\n"
          ]
        }
      ]
    },
    {
      "cell_type": "code",
      "source": [
        "sales_df1 = sales_df1.withColumn('SaleDate', F.to_date('SaleDate', 'yyyy-MM-dd'))\n",
        "sales_df1.show()"
      ],
      "metadata": {
        "colab": {
          "base_uri": "https://localhost:8080/"
        },
        "id": "VUFiegvD1eYL",
        "outputId": "98a9ddc7-47ad-44ea-a293-f310b6fb4ee1"
      },
      "execution_count": null,
      "outputs": [
        {
          "output_type": "stream",
          "name": "stdout",
          "text": [
            "+---------+-----------+-----------+-----+----------+\n",
            "|ProductID|ProductName|   Category|Price|  SaleDate|\n",
            "+---------+-----------+-----------+-----+----------+\n",
            "|        1|  Product A|Electronics| 1200|2022-05-10|\n",
            "|        2|  Product B|   Clothing|  500|2022-07-15|\n",
            "|        3|  Product C|Electronics| 1800|2021-11-05|\n",
            "+---------+-----------+-----------+-----+----------+\n",
            "\n"
          ]
        }
      ]
    },
    {
      "cell_type": "code",
      "source": [
        "sales_df1 = sales_df1.withColumn('DaysSinceSale', F.datediff(F.current_date(), 'SaleDate'))\n",
        "sales_df1.show()"
      ],
      "metadata": {
        "colab": {
          "base_uri": "https://localhost:8080/"
        },
        "id": "QHSZCqyH1lNX",
        "outputId": "2ab03045-afe8-4207-b3ab-8fb70ee27e42"
      },
      "execution_count": null,
      "outputs": [
        {
          "output_type": "stream",
          "name": "stdout",
          "text": [
            "+---------+-----------+-----------+-----+----------+-------------+\n",
            "|ProductID|ProductName|   Category|Price|  SaleDate|DaysSinceSale|\n",
            "+---------+-----------+-----------+-----+----------+-------------+\n",
            "|        1|  Product A|Electronics| 1200|2022-05-10|          848|\n",
            "|        2|  Product B|   Clothing|  500|2022-07-15|          782|\n",
            "|        3|  Product C|Electronics| 1800|2021-11-05|         1034|\n",
            "+---------+-----------+-----------+-----+----------+-------------+\n",
            "\n"
          ]
        }
      ]
    },
    {
      "cell_type": "code",
      "source": [
        "sales_df1 = sales_df1.withColumn('NextSaleDeadline', F.date_add('SaleDate', 30))\n",
        "sales_df1.show()"
      ],
      "metadata": {
        "colab": {
          "base_uri": "https://localhost:8080/"
        },
        "id": "ufQwLMSd1uVF",
        "outputId": "f06fba3b-5549-4ff0-c36a-2552d7d46742"
      },
      "execution_count": null,
      "outputs": [
        {
          "output_type": "stream",
          "name": "stdout",
          "text": [
            "+---------+-----------+-----------+-----+----------+-------------+----------------+\n",
            "|ProductID|ProductName|   Category|Price|  SaleDate|DaysSinceSale|NextSaleDeadline|\n",
            "+---------+-----------+-----------+-----+----------+-------------+----------------+\n",
            "|        1|  Product A|Electronics| 1200|2022-05-10|          848|      2022-06-09|\n",
            "|        2|  Product B|   Clothing|  500|2022-07-15|          782|      2022-08-14|\n",
            "|        3|  Product C|Electronics| 1800|2021-11-05|         1034|      2021-12-05|\n",
            "+---------+-----------+-----------+-----+----------+-------------+----------------+\n",
            "\n"
          ]
        }
      ]
    },
    {
      "cell_type": "code",
      "source": [
        "revenue_df = sales_df1.groupBy('Category').agg(\n",
        "    F.sum('Price').alias('TotalRevenue'),\n",
        "    F.avg('Price').alias('AveragePrice')\n",
        ")"
      ],
      "metadata": {
        "id": "eKrZ64701y5M"
      },
      "execution_count": null,
      "outputs": []
    },
    {
      "cell_type": "code",
      "source": [
        "sales_df1 = sales_df1.withColumn('ProductNameLower', F.lower('ProductName'))\n",
        "sales_df1.show()"
      ],
      "metadata": {
        "colab": {
          "base_uri": "https://localhost:8080/"
        },
        "id": "wXpEdr1912eC",
        "outputId": "37972937-cbbd-491a-9abd-63ba6217ed59"
      },
      "execution_count": null,
      "outputs": [
        {
          "output_type": "stream",
          "name": "stdout",
          "text": [
            "+---------+-----------+-----------+-----+----------+-------------+----------------+----------------+\n",
            "|ProductID|ProductName|   Category|Price|  SaleDate|DaysSinceSale|NextSaleDeadline|ProductNameLower|\n",
            "+---------+-----------+-----------+-----+----------+-------------+----------------+----------------+\n",
            "|        1|  Product A|Electronics| 1200|2022-05-10|          848|      2022-06-09|       product a|\n",
            "|        2|  Product B|   Clothing|  500|2022-07-15|          782|      2022-08-14|       product b|\n",
            "|        3|  Product C|Electronics| 1800|2021-11-05|         1034|      2021-12-05|       product c|\n",
            "+---------+-----------+-----------+-----+----------+-------------+----------------+----------------+\n",
            "\n"
          ]
        }
      ]
    },
    {
      "cell_type": "code",
      "source": [
        "from pyspark.sql import SparkSession\n",
        "from pyspark.sql.functions import col\n",
        "\n",
        "spark = SparkSession.builder \\\n",
        ".appName(\"Employee Data Analysis\") \\\n",
        ".getOrCreate()"
      ],
      "metadata": {
        "id": "rUGHy9JbWnT6"
      },
      "execution_count": null,
      "outputs": []
    },
    {
      "cell_type": "code",
      "source": [
        "csv_file_path = \"/content/sample_data/people.csv\"\n",
        "\n",
        "df_csv = spark.read.format(\"csv\").option(\"header\",\"true\").load(csv_file_path)\n",
        "df_csv.show()"
      ],
      "metadata": {
        "colab": {
          "base_uri": "https://localhost:8080/"
        },
        "id": "qc_CLTBVYf0o",
        "outputId": "5a1e4928-eac8-46ed-81d1-c93b1b962125"
      },
      "execution_count": null,
      "outputs": [
        {
          "output_type": "stream",
          "name": "stdout",
          "text": [
            "+----+---+------+\n",
            "|Name|Age|Gender|\n",
            "+----+---+------+\n",
            "|John| 28|  Male|\n",
            "|Jane| 32|Female|\n",
            "+----+---+------+\n",
            "\n"
          ]
        }
      ]
    }
  ]
}